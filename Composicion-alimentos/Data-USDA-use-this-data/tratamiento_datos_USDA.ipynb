{
 "cells": [
  {
   "cell_type": "code",
   "execution_count": 3,
   "metadata": {},
   "outputs": [],
   "source": [
    "import pandas as pd\n",
    "import numpy as np"
   ]
  },
  {
   "cell_type": "code",
   "execution_count": 4,
   "metadata": {},
   "outputs": [
    {
     "data": {
      "text/html": [
       "<div>\n",
       "<style scoped>\n",
       "    .dataframe tbody tr th:only-of-type {\n",
       "        vertical-align: middle;\n",
       "    }\n",
       "\n",
       "    .dataframe tbody tr th {\n",
       "        vertical-align: top;\n",
       "    }\n",
       "\n",
       "    .dataframe thead th {\n",
       "        text-align: right;\n",
       "    }\n",
       "</style>\n",
       "<table border=\"1\" class=\"dataframe\">\n",
       "  <thead>\n",
       "    <tr style=\"text-align: right;\">\n",
       "      <th></th>\n",
       "      <th>ID</th>\n",
       "      <th>FoodGroup</th>\n",
       "      <th>Descrip</th>\n",
       "      <th>CommonName</th>\n",
       "      <th>MfgName</th>\n",
       "      <th>ScientificName</th>\n",
       "      <th>Energy_kcal</th>\n",
       "      <th>Protein_g</th>\n",
       "      <th>Fat_g</th>\n",
       "      <th>Carb_g</th>\n",
       "      <th>...</th>\n",
       "      <th>Riboflavin_mg</th>\n",
       "      <th>Thiamin_mg</th>\n",
       "      <th>Calcium_mg</th>\n",
       "      <th>Copper_mcg</th>\n",
       "      <th>Iron_mg</th>\n",
       "      <th>Magnesium_mg</th>\n",
       "      <th>Manganese_mg</th>\n",
       "      <th>Phosphorus_mg</th>\n",
       "      <th>Selenium_mcg</th>\n",
       "      <th>Zinc_mg</th>\n",
       "    </tr>\n",
       "  </thead>\n",
       "  <tbody>\n",
       "    <tr>\n",
       "      <th>0</th>\n",
       "      <td>1001</td>\n",
       "      <td>Dairy and Egg Products</td>\n",
       "      <td>Butter, salted</td>\n",
       "      <td>No name</td>\n",
       "      <td>No name</td>\n",
       "      <td>No name</td>\n",
       "      <td>717.0</td>\n",
       "      <td>0.85</td>\n",
       "      <td>81.11</td>\n",
       "      <td>0.06</td>\n",
       "      <td>...</td>\n",
       "      <td>0.034</td>\n",
       "      <td>0.005</td>\n",
       "      <td>24.0</td>\n",
       "      <td>0.000</td>\n",
       "      <td>0.02</td>\n",
       "      <td>2.0</td>\n",
       "      <td>0.000</td>\n",
       "      <td>24.0</td>\n",
       "      <td>1.0</td>\n",
       "      <td>0.09</td>\n",
       "    </tr>\n",
       "    <tr>\n",
       "      <th>1</th>\n",
       "      <td>1002</td>\n",
       "      <td>Dairy and Egg Products</td>\n",
       "      <td>Butter, whipped, with salt</td>\n",
       "      <td>No name</td>\n",
       "      <td>No name</td>\n",
       "      <td>No name</td>\n",
       "      <td>717.0</td>\n",
       "      <td>0.85</td>\n",
       "      <td>81.11</td>\n",
       "      <td>0.06</td>\n",
       "      <td>...</td>\n",
       "      <td>0.034</td>\n",
       "      <td>0.005</td>\n",
       "      <td>24.0</td>\n",
       "      <td>0.016</td>\n",
       "      <td>0.16</td>\n",
       "      <td>2.0</td>\n",
       "      <td>0.004</td>\n",
       "      <td>23.0</td>\n",
       "      <td>1.0</td>\n",
       "      <td>0.05</td>\n",
       "    </tr>\n",
       "    <tr>\n",
       "      <th>2</th>\n",
       "      <td>1003</td>\n",
       "      <td>Dairy and Egg Products</td>\n",
       "      <td>Butter oil, anhydrous</td>\n",
       "      <td>No name</td>\n",
       "      <td>No name</td>\n",
       "      <td>No name</td>\n",
       "      <td>876.0</td>\n",
       "      <td>0.28</td>\n",
       "      <td>99.48</td>\n",
       "      <td>0.00</td>\n",
       "      <td>...</td>\n",
       "      <td>0.005</td>\n",
       "      <td>0.001</td>\n",
       "      <td>4.0</td>\n",
       "      <td>0.001</td>\n",
       "      <td>0.00</td>\n",
       "      <td>0.0</td>\n",
       "      <td>0.000</td>\n",
       "      <td>3.0</td>\n",
       "      <td>0.0</td>\n",
       "      <td>0.01</td>\n",
       "    </tr>\n",
       "    <tr>\n",
       "      <th>3</th>\n",
       "      <td>1004</td>\n",
       "      <td>Dairy and Egg Products</td>\n",
       "      <td>Cheese, blue</td>\n",
       "      <td>No name</td>\n",
       "      <td>No name</td>\n",
       "      <td>No name</td>\n",
       "      <td>353.0</td>\n",
       "      <td>21.40</td>\n",
       "      <td>28.74</td>\n",
       "      <td>2.34</td>\n",
       "      <td>...</td>\n",
       "      <td>0.382</td>\n",
       "      <td>0.029</td>\n",
       "      <td>528.0</td>\n",
       "      <td>0.040</td>\n",
       "      <td>0.31</td>\n",
       "      <td>23.0</td>\n",
       "      <td>0.009</td>\n",
       "      <td>387.0</td>\n",
       "      <td>14.5</td>\n",
       "      <td>2.66</td>\n",
       "    </tr>\n",
       "    <tr>\n",
       "      <th>4</th>\n",
       "      <td>1005</td>\n",
       "      <td>Dairy and Egg Products</td>\n",
       "      <td>Cheese, brick</td>\n",
       "      <td>No name</td>\n",
       "      <td>No name</td>\n",
       "      <td>No name</td>\n",
       "      <td>371.0</td>\n",
       "      <td>23.24</td>\n",
       "      <td>29.68</td>\n",
       "      <td>2.79</td>\n",
       "      <td>...</td>\n",
       "      <td>0.351</td>\n",
       "      <td>0.014</td>\n",
       "      <td>674.0</td>\n",
       "      <td>0.024</td>\n",
       "      <td>0.43</td>\n",
       "      <td>24.0</td>\n",
       "      <td>0.012</td>\n",
       "      <td>451.0</td>\n",
       "      <td>14.5</td>\n",
       "      <td>2.60</td>\n",
       "    </tr>\n",
       "  </tbody>\n",
       "</table>\n",
       "<p>5 rows × 29 columns</p>\n",
       "</div>"
      ],
      "text/plain": [
       "     ID               FoodGroup                     Descrip CommonName  \\\n",
       "0  1001  Dairy and Egg Products              Butter, salted    No name   \n",
       "1  1002  Dairy and Egg Products  Butter, whipped, with salt    No name   \n",
       "2  1003  Dairy and Egg Products       Butter oil, anhydrous    No name   \n",
       "3  1004  Dairy and Egg Products                Cheese, blue    No name   \n",
       "4  1005  Dairy and Egg Products               Cheese, brick    No name   \n",
       "\n",
       "   MfgName ScientificName  Energy_kcal  Protein_g  Fat_g  Carb_g  ...  \\\n",
       "0  No name        No name        717.0       0.85  81.11    0.06  ...   \n",
       "1  No name        No name        717.0       0.85  81.11    0.06  ...   \n",
       "2  No name        No name        876.0       0.28  99.48    0.00  ...   \n",
       "3  No name        No name        353.0      21.40  28.74    2.34  ...   \n",
       "4  No name        No name        371.0      23.24  29.68    2.79  ...   \n",
       "\n",
       "   Riboflavin_mg  Thiamin_mg  Calcium_mg  Copper_mcg  Iron_mg  Magnesium_mg  \\\n",
       "0          0.034       0.005        24.0       0.000     0.02           2.0   \n",
       "1          0.034       0.005        24.0       0.016     0.16           2.0   \n",
       "2          0.005       0.001         4.0       0.001     0.00           0.0   \n",
       "3          0.382       0.029       528.0       0.040     0.31          23.0   \n",
       "4          0.351       0.014       674.0       0.024     0.43          24.0   \n",
       "\n",
       "   Manganese_mg  Phosphorus_mg  Selenium_mcg  Zinc_mg  \n",
       "0         0.000           24.0           1.0     0.09  \n",
       "1         0.004           23.0           1.0     0.05  \n",
       "2         0.000            3.0           0.0     0.01  \n",
       "3         0.009          387.0          14.5     2.66  \n",
       "4         0.012          451.0          14.5     2.60  \n",
       "\n",
       "[5 rows x 29 columns]"
      ]
     },
     "execution_count": 4,
     "metadata": {},
     "output_type": "execute_result"
    }
   ],
   "source": [
    "food = pd.read_csv(\"food.csv\")\n",
    "food.head()"
   ]
  },
  {
   "cell_type": "markdown",
   "metadata": {},
   "source": [
    "Eliminaremos la columna llamada MfgName, ID y ScientificName ya que no afecta a nuestro análisis posterior."
   ]
  },
  {
   "cell_type": "code",
   "execution_count": 11,
   "metadata": {},
   "outputs": [],
   "source": [
    "food.drop([\"MfgName\", \"ScientificName\", \"ID\"], axis=1, inplace=True)"
   ]
  },
  {
   "cell_type": "markdown",
   "metadata": {},
   "source": [
    "Revisaremos si vale la pena quedarse con la columna llamada CommonNames"
   ]
  },
  {
   "cell_type": "code",
   "execution_count": 12,
   "metadata": {},
   "outputs": [
    {
     "name": "stdout",
     "output_type": "stream",
     "text": [
      "El elemento que más se repite es \"No name\"\n",
      "Con una repetición de 7555 veces\n"
     ]
    }
   ],
   "source": [
    "elemento_masrepetido = food.CommonName.value_counts().idxmax()\n",
    "repeticiones = food.CommonName.value_counts().max()\n",
    "print(f\"\"\"El elemento que más se repite es \"{elemento_masrepetido}\"\n",
    "Con una repetición de {repeticiones} veces\"\"\")"
   ]
  },
  {
   "cell_type": "markdown",
   "metadata": {},
   "source": [
    "Terminamos por eliminar también esta columna y eliminamos"
   ]
  },
  {
   "cell_type": "code",
   "execution_count": 13,
   "metadata": {},
   "outputs": [],
   "source": [
    "food.drop(\"CommonName\", axis=1, inplace=True)"
   ]
  },
  {
   "cell_type": "code",
   "execution_count": 14,
   "metadata": {},
   "outputs": [
    {
     "data": {
      "text/plain": [
       "Index(['FoodGroup', 'Descrip', 'Energy_kcal', 'Protein_g', 'Fat_g', 'Carb_g',\n",
       "       'Sugar_g', 'Fiber_g', 'VitA_mcg', 'VitB6_mg', 'VitB12_mcg', 'VitC_mg',\n",
       "       'VitE_mg', 'Folate_mcg', 'Niacin_mg', 'Riboflavin_mg', 'Thiamin_mg',\n",
       "       'Calcium_mg', 'Copper_mcg', 'Iron_mg', 'Magnesium_mg', 'Manganese_mg',\n",
       "       'Phosphorus_mg', 'Selenium_mcg', 'Zinc_mg'],\n",
       "      dtype='object')"
      ]
     },
     "execution_count": 14,
     "metadata": {},
     "output_type": "execute_result"
    }
   ],
   "source": [
    "food.columns"
   ]
  },
  {
   "cell_type": "markdown",
   "metadata": {},
   "source": [
    "Podemos destacar que la unidad de medida de los nutrientes(vitaminas, minerales, etc.) varia, es decir algunos datos estan en gramos, microgramos o miligramos, para todo esto se transformara todo a miliogramos ya que es la unidad que más se repite.\n",
    "Para la utilización de algoritmos como regresión lineal no los ocupamos pero es posible que para clustering sea necesario además de normalizar cada uno de los datos.\n"
   ]
  },
  {
   "cell_type": "markdown",
   "metadata": {},
   "source": [
    "Ahora se cambiara el nombre de las columnas para que hagan referenia a la unidad mg"
   ]
  },
  {
   "cell_type": "code",
   "execution_count": 15,
   "metadata": {},
   "outputs": [],
   "source": [
    "new_columnas = []\n",
    "columnas = food.columns\n",
    "\n",
    "for col in columnas:\n",
    "    if col.find(\"_g\") != -1:\n",
    "        n_c = col.replace(\"_g\", \"_mg\")\n",
    "        food[col] = food[col].apply(lambda x: x*1000)\n",
    "        new_columnas.append(n_c)\n",
    "    elif col.find(\"_mcg\") != -1:\n",
    "        n_c = col.replace(\"_mcg\", \"_mg\")\n",
    "        food[col] = food[col].apply(lambda x: x/1000)\n",
    "        new_columnas.append(n_c)\n",
    "    else:\n",
    "        new_columnas.append(col)\n",
    "        \n",
    "food.columns = new_columnas\n"
   ]
  },
  {
   "cell_type": "markdown",
   "metadata": {},
   "source": [
    "Por ultimo guardamos nuestro dataset"
   ]
  },
  {
   "cell_type": "code",
   "execution_count": 16,
   "metadata": {},
   "outputs": [],
   "source": [
    "food.to_csv(\"food_ML.csv\", index=False)"
   ]
  },
  {
   "cell_type": "code",
   "execution_count": 7,
   "metadata": {},
   "outputs": [
    {
     "data": {
      "text/plain": [
       "Beef Products                          946\n",
       "Vegetables and Vegetable Products      828\n",
       "Baked Products                         797\n",
       "Soups, Sauces, and Gravies             452\n",
       "Lamb, Veal, and Game Products          438\n",
       "Poultry Products                       390\n",
       "Legumes and Legume Products            389\n",
       "Fast Foods                             371\n",
       "Breakfast Cereals                      363\n",
       "Baby Foods                             362\n",
       "Sweets                                 347\n",
       "Fruits and Fruit Juices                346\n",
       "Pork Products                          343\n",
       "Beverages                              315\n",
       "Finfish and Shellfish Products         267\n",
       "Dairy and Egg Products                 264\n",
       "Sausages and Luncheon Meats            244\n",
       "Fats and Oils                          219\n",
       "Cereal Grains and Pasta                183\n",
       "Snacks                                 171\n",
       "American Indian/Alaska Native Foods    165\n",
       "Nut and Seed Products                  133\n",
       "Meals, Entrees, and Side Dishes        113\n",
       "Restaurant Foods                       108\n",
       "Spices and Herbs                        64\n",
       "Name: FoodGroup, dtype: int64"
      ]
     },
     "execution_count": 7,
     "metadata": {},
     "output_type": "execute_result"
    }
   ],
   "source": [
    "food.FoodGroup.value_counts()"
   ]
  },
  {
   "cell_type": "code",
   "execution_count": null,
   "metadata": {},
   "outputs": [],
   "source": []
  }
 ],
 "metadata": {
  "kernelspec": {
   "display_name": "Python 3",
   "language": "python",
   "name": "python3"
  },
  "language_info": {
   "codemirror_mode": {
    "name": "ipython",
    "version": 3
   },
   "file_extension": ".py",
   "mimetype": "text/x-python",
   "name": "python",
   "nbconvert_exporter": "python",
   "pygments_lexer": "ipython3",
   "version": "3.7.6"
  },
  "toc": {
   "base_numbering": 1,
   "nav_menu": {},
   "number_sections": true,
   "sideBar": true,
   "skip_h1_title": false,
   "title_cell": "Table of Contents",
   "title_sidebar": "Contents",
   "toc_cell": false,
   "toc_position": {},
   "toc_section_display": true,
   "toc_window_display": false
  },
  "varInspector": {
   "cols": {
    "lenName": 16,
    "lenType": 16,
    "lenVar": 40
   },
   "kernels_config": {
    "python": {
     "delete_cmd_postfix": "",
     "delete_cmd_prefix": "del ",
     "library": "var_list.py",
     "varRefreshCmd": "print(var_dic_list())"
    },
    "r": {
     "delete_cmd_postfix": ") ",
     "delete_cmd_prefix": "rm(",
     "library": "var_list.r",
     "varRefreshCmd": "cat(var_dic_list()) "
    }
   },
   "types_to_exclude": [
    "module",
    "function",
    "builtin_function_or_method",
    "instance",
    "_Feature"
   ],
   "window_display": false
  }
 },
 "nbformat": 4,
 "nbformat_minor": 4
}
