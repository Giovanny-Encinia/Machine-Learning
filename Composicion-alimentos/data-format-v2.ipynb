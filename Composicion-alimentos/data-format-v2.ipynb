{
 "cells": [
  {
   "cell_type": "code",
   "execution_count": 21,
   "metadata": {},
   "outputs": [],
   "source": [
    "import pandas as pd\n",
    "import numpy as np"
   ]
  },
  {
   "cell_type": "markdown",
   "metadata": {},
   "source": [
    "This version agregates a new column in the dataframe, this column is named \"GROUP\". The diferents methods aren't neccesary because of own analysys type"
   ]
  },
  {
   "cell_type": "markdown",
   "metadata": {},
   "source": [
    "First, I check the structure of the \"xls\" file, and I could determine which sheets I can to use for the analysis."
   ]
  },
  {
   "cell_type": "code",
   "execution_count": 22,
   "metadata": {},
   "outputs": [],
   "source": [
    "xls = pd.ExcelFile(\"FoodCompAfricaWest.xlsx\")\n",
    "food = pd.read_excel(xls, 2)"
   ]
  },
  {
   "cell_type": "markdown",
   "metadata": {},
   "source": [
    "I eliminate the \"\\n\" in the columns' name\n"
   ]
  },
  {
   "cell_type": "code",
   "execution_count": 23,
   "metadata": {},
   "outputs": [],
   "source": [
    "columns = food.columns.to_list()\n",
    "columns = [element.replace('\\n', ' ').upper() for element in columns]\n",
    "food.columns = columns"
   ]
  },
  {
   "cell_type": "markdown",
   "metadata": {},
   "source": [
    "I will eliminate the rows with a number of N/A values greater than 44 also I will eliminate the first two rows."
   ]
  },
  {
   "cell_type": "code",
   "execution_count": 24,
   "metadata": {},
   "outputs": [],
   "source": [
    "condition = food.isna().sum(axis=1) > 44\n",
    "food.drop(food[condition].index, inplace=True)\n",
    "food.drop(index=[0,1], inplace=True)"
   ]
  },
  {
   "cell_type": "markdown",
   "metadata": {},
   "source": [
    "In own dataframe in the last column exist diferent types of data so I handle the data and I eliminated the \"[]\", and I maked new data for a new column that will especify the method by wich the creators of the table found the phytatic acid."
   ]
  },
  {
   "cell_type": "code",
   "execution_count": 26,
   "metadata": {},
   "outputs": [],
   "source": [
    "columns = food.columns\n",
    "columns = columns[5:]\n",
    "\n",
    "for col in columns:\n",
    "    lista = food[col].to_list() # Data of the last column of Food df\n",
    "    copy_lista = lista[:]\n",
    "    i = 0\n",
    "\n",
    "    for num in copy_lista:\n",
    "\n",
    "        try:\n",
    "            if num.find(\"[\") != -1:\n",
    "                \n",
    "                num = num.replace(\"[\", \"\")\n",
    "                num = num.replace(\"]\", \"\")\n",
    "                lista[i] = num\n",
    "\n",
    "        except AttributeError:\n",
    "            pass\n",
    "\n",
    "        i += 1\n",
    "    "
   ]
  },
  {
   "cell_type": "markdown",
   "metadata": {},
   "source": [
    "I change the data type of each column"
   ]
  },
  {
   "cell_type": "code",
   "execution_count": 27,
   "metadata": {},
   "outputs": [],
   "source": [
    "for col in columns:\n",
    "    food[col] = pd.to_numeric(food[col], errors=\"coerce\")"
   ]
  },
  {
   "cell_type": "markdown",
   "metadata": {},
   "source": [
    "Now, I will find the food group's names"
   ]
  },
  {
   "cell_type": "code",
   "execution_count": 28,
   "metadata": {},
   "outputs": [],
   "source": [
    "condition_sep = food.isna().sum(axis=1) > 43\n",
    "group_index = food[condition_sep].index.to_list()"
   ]
  },
  {
   "cell_type": "markdown",
   "metadata": {},
   "source": [
    "**Version 1**\n",
    "\n",
    "I will create the diferents dataframe of the groups of food\n",
    "The name of the list of dataframe groups is group_food\n",
    "\n",
    "**Version 2**\n",
    "\n",
    "I created a new column named group\n",
    "\n"
   ]
  },
  {
   "cell_type": "code",
   "execution_count": 29,
   "metadata": {},
   "outputs": [],
   "source": [
    "# this cell have to be using if we want separated food groups\n",
    "group_food = [] # Save the data\n",
    "copy = group_index[:] # Ward for handling data\n",
    "food[\"GROUP\"] = food[\"CODE\"]\n",
    "\n",
    "try:\n",
    "    \n",
    "    for index in group_index:\n",
    "        iterador = iter(copy)\n",
    "        copy.pop(0) # eliminate the first element of copy in each iteration\n",
    "        next_index = next(iterador)\n",
    "        begin = index\n",
    "        end = next_index - 2\n",
    "        # I use 2 because previously I erased the row\n",
    "       \n",
    "        food.loc[begin: end, (\"GROUP\")] = food.loc[begin, (\"CODE\")].split(\"/\")[0]\n",
    "       \n",
    "        \n",
    "        \n",
    "except StopIteration:\n",
    "    begin = group_index[-1]\n",
    "    end = food.iloc[-1].name\n",
    "   \n",
    "    food.loc[begin: end, (\"GROUP\")] = food.loc[begin, (\"CODE\")].split(\"/\")[0]\n",
    "    "
   ]
  },
  {
   "cell_type": "markdown",
   "metadata": {},
   "source": [
    "Eliminated rows with the name of groups"
   ]
  },
  {
   "cell_type": "code",
   "execution_count": 33,
   "metadata": {},
   "outputs": [],
   "source": [
    "for index in group_index:\n",
    "    food.drop(index, inplace=True)"
   ]
  },
  {
   "cell_type": "code",
   "execution_count": 39,
   "metadata": {},
   "outputs": [],
   "source": [
    "new_column_name = [\n",
    "'CODE',\n",
    "'NAME IN ENGLISH',\n",
    "'NAME IN FRENCH',\n",
    "'SCIENTIFIC NAME',\n",
    "'BIBLIOID/SOURCE',\n",
    "'EDIBLE PORTION COEFFICIENT 1',\n",
    "'ENERGY (KJ)',\n",
    "'ENERGY (KCAL)',\n",
    "'WATER (G)',\n",
    "'PROTEIN, TOTAL (G)',\n",
    "'FAT TOTAL (G)',\n",
    "'CARBOHYDRATE (G)',\n",
    "'FIBRE (G)',\n",
    "'ASH (G)',\n",
    "'CALCIUM (MG)',\n",
    "'IRON (MG)',\n",
    "'MAGNESIUM (MG)',\n",
    "'PHOSPHORUS (MG)',\n",
    "'POTASSIUM (MG)',\n",
    "'SODIUM (MG)',\n",
    "'ZINC (MG)',\n",
    "'COPPER (MG)',\n",
    "'VITAMIN A (MCG)',\n",
    "'VITAMIN A (MCG)',\n",
    "'RETINOL (MCG)',\n",
    "'BETA-CAROTENE (MCG)',\n",
    "'VITAMIN D  (MCG)',\n",
    "'VITAMIN E (MG)',\n",
    "'VITAMIN B1 (MG)',\n",
    "'VITAMIN B2 (MG)',\n",
    "'VITAMIN B3 (MG)',\n",
    "'NIACIN PREFORMED (MG)',\n",
    "'TRYPTOPHAN (MG)',\n",
    "'VITAMIN B6 (MG)',\n",
    "'VITAMIN B9 (MCG)',\n",
    "'FOLATE (MCG)',\n",
    "'VITAMIN B12 (MCG)',\n",
    "'VITAMIN C (MG)',\n",
    "'CHOLESTEROL (MG)',\n",
    "'FATTY ACIDS, TOTAL SATURATED (G)',\n",
    "'FATTY ACIDS, TOTAL MONOUNSATURATED  (G)',\n",
    "'FATTY ACIDS, TOTAL POLYUNSATURATED (G)',\n",
    "'LINOLEIC ACID  (G)',\n",
    "'ALPHA-LINOLENIC ACID (G)',\n",
    "'PHYTATE (MG)',\n",
    "'GROUP']\n",
    "food.columns = new_column_name"
   ]
  },
  {
   "cell_type": "markdown",
   "metadata": {},
   "source": [
    "Column named \"CODE\" eliminated"
   ]
  },
  {
   "cell_type": "code",
   "execution_count": 51,
   "metadata": {},
   "outputs": [],
   "source": [
    "food.drop(\"CODE\", axis=1, inplace=True)\n",
    "food.index = range(food.shape[0])"
   ]
  },
  {
   "cell_type": "code",
   "execution_count": 59,
   "metadata": {},
   "outputs": [],
   "source": []
  }
 ],
 "metadata": {
  "kernelspec": {
   "display_name": "Python 3",
   "language": "python",
   "name": "python3"
  },
  "language_info": {
   "codemirror_mode": {
    "name": "ipython",
    "version": 3
   },
   "file_extension": ".py",
   "mimetype": "text/x-python",
   "name": "python",
   "nbconvert_exporter": "python",
   "pygments_lexer": "ipython3",
   "version": "3.7.6"
  },
  "toc": {
   "base_numbering": 1,
   "nav_menu": {},
   "number_sections": true,
   "sideBar": true,
   "skip_h1_title": false,
   "title_cell": "Table of Contents",
   "title_sidebar": "Contents",
   "toc_cell": false,
   "toc_position": {},
   "toc_section_display": true,
   "toc_window_display": false
  },
  "varInspector": {
   "cols": {
    "lenName": 16,
    "lenType": 16,
    "lenVar": 40
   },
   "kernels_config": {
    "python": {
     "delete_cmd_postfix": "",
     "delete_cmd_prefix": "del ",
     "library": "var_list.py",
     "varRefreshCmd": "print(var_dic_list())"
    },
    "r": {
     "delete_cmd_postfix": ") ",
     "delete_cmd_prefix": "rm(",
     "library": "var_list.r",
     "varRefreshCmd": "cat(var_dic_list()) "
    }
   },
   "types_to_exclude": [
    "module",
    "function",
    "builtin_function_or_method",
    "instance",
    "_Feature"
   ],
   "window_display": false
  }
 },
 "nbformat": 4,
 "nbformat_minor": 4
}
